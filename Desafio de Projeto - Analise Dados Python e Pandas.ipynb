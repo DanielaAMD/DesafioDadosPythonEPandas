{
 "cells": [
  {
   "cell_type": "code",
   "execution_count": 1,
   "id": "eeea1c2c",
   "metadata": {},
   "outputs": [],
   "source": [
    "#Importação da(s) biblioteca(s) necessária(s)\n",
    "import pandas as pd\n",
    "import matplotlib.pyplot as plt\n",
    "plt.style.use(\"seaborn\")"
   ]
  },
  {
   "cell_type": "code",
   "execution_count": 3,
   "id": "ed858082",
   "metadata": {},
   "outputs": [],
   "source": [
    "#Criação do dataframe a partir do arquivo disponibilizado em excel\n",
    "df = pd.read_excel(\"AdventureWorks.xlsx\")"
   ]
  },
  {
   "cell_type": "code",
   "execution_count": 4,
   "id": "5851215b",
   "metadata": {},
   "outputs": [
    {
     "name": "stdout",
     "output_type": "stream",
     "text": [
      "<class 'pandas.core.frame.DataFrame'>\n",
      "RangeIndex: 904 entries, 0 to 903\n",
      "Data columns (total 16 columns):\n",
      " #   Column          Non-Null Count  Dtype         \n",
      "---  ------          --------------  -----         \n",
      " 0   Data Venda      904 non-null    datetime64[ns]\n",
      " 1   Data Envio      904 non-null    datetime64[ns]\n",
      " 2   ID Loja         904 non-null    int64         \n",
      " 3   ID Produto      904 non-null    int64         \n",
      " 4   ID Cliente      904 non-null    int64         \n",
      " 5   No. Venda       904 non-null    object        \n",
      " 6   Custo Unitário  904 non-null    float64       \n",
      " 7   Preço Unitário  904 non-null    float64       \n",
      " 8   Quantidade      904 non-null    int64         \n",
      " 9   Valor Desconto  904 non-null    float64       \n",
      " 10  Valor Venda     904 non-null    float64       \n",
      " 11  Produto         904 non-null    object        \n",
      " 12  Fabricante      904 non-null    object        \n",
      " 13  Marca           904 non-null    object        \n",
      " 14  Classe          904 non-null    object        \n",
      " 15  Cor             904 non-null    object        \n",
      "dtypes: datetime64[ns](2), float64(4), int64(4), object(6)\n",
      "memory usage: 113.1+ KB\n"
     ]
    }
   ],
   "source": [
    "#Exibição das informações básicas do dataframe (Nº de linhas e colunas, tipos de dados e existência de valores nulos)\n",
    "df.info()"
   ]
  },
  {
   "cell_type": "code",
   "execution_count": 8,
   "id": "2c639887",
   "metadata": {},
   "outputs": [
    {
     "data": {
      "text/plain": [
       "Data Venda        datetime64[ns]\n",
       "Data Envio        datetime64[ns]\n",
       "ID Loja                   object\n",
       "ID Produto                object\n",
       "ID Cliente                object\n",
       "No. Venda                 object\n",
       "Custo Unitário           float64\n",
       "Preço Unitário           float64\n",
       "Quantidade                 int64\n",
       "Valor Desconto           float64\n",
       "Valor Venda              float64\n",
       "Produto                   object\n",
       "Fabricante                object\n",
       "Marca                     object\n",
       "Classe                    object\n",
       "Cor                       object\n",
       "dtype: object"
      ]
     },
     "execution_count": 8,
     "metadata": {},
     "output_type": "execute_result"
    }
   ],
   "source": [
    "#Alteração do tipo de dado das colunas de ID uma vez que não faz sentido fazer operações matemáticas com esses identificadores e verificação da alteração.\n",
    "df[\"ID Loja\"] = df[\"ID Loja\"].astype(\"object\")\n",
    "df[\"ID Produto\"] = df[\"ID Produto\"].astype(\"object\")\n",
    "df[\"ID Cliente\"] = df[\"ID Cliente\"].astype(\"object\")\n",
    "df.dtypes"
   ]
  },
  {
   "cell_type": "code",
   "execution_count": 15,
   "id": "4388c452",
   "metadata": {},
   "outputs": [
    {
     "name": "stdout",
     "output_type": "stream",
     "text": [
      "Data inicial: 2008-01-02 00:00:00 \n",
      "Data final: 2009-12-31 00:00:00\n"
     ]
    }
   ],
   "source": [
    "#Verificação do período de venda a que se referem os dados disponíveis\n",
    "data_min = df[\"Data Venda\"].min()\n",
    "data_max = df[\"Data Venda\"].max()\n",
    "print(f\"Data inicial: {data_min} \\nData final: {data_max}\")\n",
    "\n"
   ]
  },
  {
   "cell_type": "code",
   "execution_count": 19,
   "id": "cb86a3b1",
   "metadata": {},
   "outputs": [
    {
     "data": {
      "text/html": [
       "<div>\n",
       "<style scoped>\n",
       "    .dataframe tbody tr th:only-of-type {\n",
       "        vertical-align: middle;\n",
       "    }\n",
       "\n",
       "    .dataframe tbody tr th {\n",
       "        vertical-align: top;\n",
       "    }\n",
       "\n",
       "    .dataframe thead th {\n",
       "        text-align: right;\n",
       "    }\n",
       "</style>\n",
       "<table border=\"1\" class=\"dataframe\">\n",
       "  <thead>\n",
       "    <tr style=\"text-align: right;\">\n",
       "      <th></th>\n",
       "      <th>Data Venda</th>\n",
       "      <th>Data Envio</th>\n",
       "      <th>ID Loja</th>\n",
       "      <th>ID Produto</th>\n",
       "      <th>ID Cliente</th>\n",
       "      <th>No. Venda</th>\n",
       "      <th>Custo Unitário</th>\n",
       "      <th>Preço Unitário</th>\n",
       "      <th>Quantidade</th>\n",
       "      <th>Valor Desconto</th>\n",
       "      <th>Valor Venda</th>\n",
       "      <th>Produto</th>\n",
       "      <th>Fabricante</th>\n",
       "      <th>Marca</th>\n",
       "      <th>Classe</th>\n",
       "      <th>Cor</th>\n",
       "      <th>Valor Custo</th>\n",
       "      <th>Lucro</th>\n",
       "    </tr>\n",
       "  </thead>\n",
       "  <tbody>\n",
       "    <tr>\n",
       "      <th>424</th>\n",
       "      <td>2008-11-09</td>\n",
       "      <td>2008-11-18</td>\n",
       "      <td>199</td>\n",
       "      <td>1155</td>\n",
       "      <td>18885</td>\n",
       "      <td>200811094CS790</td>\n",
       "      <td>324.69</td>\n",
       "      <td>980.0</td>\n",
       "      <td>9</td>\n",
       "      <td>1764.0</td>\n",
       "      <td>7056.0</td>\n",
       "      <td>Fabrikam Trendsetter 2/3'' 17mm X100 Black</td>\n",
       "      <td>Fabrikam, Inc.</td>\n",
       "      <td>Fabrikam</td>\n",
       "      <td>Regular</td>\n",
       "      <td>Black</td>\n",
       "      <td>2922.21</td>\n",
       "      <td>4133.79</td>\n",
       "    </tr>\n",
       "    <tr>\n",
       "      <th>485</th>\n",
       "      <td>2009-12-14</td>\n",
       "      <td>2009-12-27</td>\n",
       "      <td>199</td>\n",
       "      <td>1226</td>\n",
       "      <td>19029</td>\n",
       "      <td>200912144CS945</td>\n",
       "      <td>330.99</td>\n",
       "      <td>999.0</td>\n",
       "      <td>17</td>\n",
       "      <td>3396.6</td>\n",
       "      <td>13586.4</td>\n",
       "      <td>Fabrikam Trendsetter 1/3'' 8.5mm X200 Black</td>\n",
       "      <td>Fabrikam, Inc.</td>\n",
       "      <td>Fabrikam</td>\n",
       "      <td>Regular</td>\n",
       "      <td>Black</td>\n",
       "      <td>5626.83</td>\n",
       "      <td>7959.57</td>\n",
       "    </tr>\n",
       "    <tr>\n",
       "      <th>437</th>\n",
       "      <td>2009-11-15</td>\n",
       "      <td>2009-11-19</td>\n",
       "      <td>307</td>\n",
       "      <td>366</td>\n",
       "      <td>19140</td>\n",
       "      <td>200911153CS730</td>\n",
       "      <td>348.58</td>\n",
       "      <td>758.0</td>\n",
       "      <td>9</td>\n",
       "      <td>1023.3</td>\n",
       "      <td>5798.7</td>\n",
       "      <td>Adventure Works Laptop15.4W M1548 Black</td>\n",
       "      <td>Adventure Works</td>\n",
       "      <td>Adventure Works</td>\n",
       "      <td>Regular</td>\n",
       "      <td>Black</td>\n",
       "      <td>3137.22</td>\n",
       "      <td>2661.48</td>\n",
       "    </tr>\n",
       "  </tbody>\n",
       "</table>\n",
       "</div>"
      ],
      "text/plain": [
       "    Data Venda Data Envio ID Loja ID Produto ID Cliente       No. Venda  \\\n",
       "424 2008-11-09 2008-11-18     199       1155      18885  200811094CS790   \n",
       "485 2009-12-14 2009-12-27     199       1226      19029  200912144CS945   \n",
       "437 2009-11-15 2009-11-19     307        366      19140  200911153CS730   \n",
       "\n",
       "     Custo Unitário  Preço Unitário  Quantidade  Valor Desconto  Valor Venda  \\\n",
       "424          324.69           980.0           9          1764.0       7056.0   \n",
       "485          330.99           999.0          17          3396.6      13586.4   \n",
       "437          348.58           758.0           9          1023.3       5798.7   \n",
       "\n",
       "                                         Produto       Fabricante  \\\n",
       "424   Fabrikam Trendsetter 2/3'' 17mm X100 Black   Fabrikam, Inc.   \n",
       "485  Fabrikam Trendsetter 1/3'' 8.5mm X200 Black   Fabrikam, Inc.   \n",
       "437      Adventure Works Laptop15.4W M1548 Black  Adventure Works   \n",
       "\n",
       "               Marca   Classe    Cor  Valor Custo    Lucro  \n",
       "424         Fabrikam  Regular  Black      2922.21  4133.79  \n",
       "485         Fabrikam  Regular  Black      5626.83  7959.57  \n",
       "437  Adventure Works  Regular  Black      3137.22  2661.48  "
      ]
     },
     "execution_count": 19,
     "metadata": {},
     "output_type": "execute_result"
    }
   ],
   "source": [
    "#Inclusão das colunas de Custo Total e Lucro no dataframe para análise do Lucro e seus componentes.\n",
    "df[\"Valor Custo\"] = df[\"Custo Unitário\"] * df[\"Quantidade\"]\n",
    "df[\"Lucro\"] = df[\"Valor Venda\"] - df[\"Valor Custo\"]\n",
    "df.sample(3)"
   ]
  },
  {
   "cell_type": "code",
   "execution_count": 27,
   "id": "86247976",
   "metadata": {},
   "outputs": [
    {
     "name": "stdout",
     "output_type": "stream",
     "text": [
      "No período de jan/2008 a dez/2009, O lucro total da empresa foi de R$ 3,497,823.09, as receitas foram R$ 5,984,606.14) e os custos R$ 2,486,783.05.\n"
     ]
    }
   ],
   "source": [
    "#Cálculo dos valores totais de lucro, receita e custo (da base completa)\n",
    "lucro_total = df[\"Lucro\"].sum()\n",
    "receita_total = df[\"Valor Venda\"].sum()\n",
    "custo_total = df[\"Valor Custo\"].sum()\n",
    "print(f\"No período de jan/2008 a dez/2009, O lucro total da empresa foi de R$ {lucro_total:,.2f}, as receitas foram R$ {receita_total:,.2f}) e os custos R$ {custo_total:,.2f}.\")"
   ]
  },
  {
   "cell_type": "code",
   "execution_count": 22,
   "id": "cbebde8b",
   "metadata": {},
   "outputs": [
    {
     "data": {
      "text/html": [
       "<div>\n",
       "<style scoped>\n",
       "    .dataframe tbody tr th:only-of-type {\n",
       "        vertical-align: middle;\n",
       "    }\n",
       "\n",
       "    .dataframe tbody tr th {\n",
       "        vertical-align: top;\n",
       "    }\n",
       "\n",
       "    .dataframe thead th {\n",
       "        text-align: right;\n",
       "    }\n",
       "</style>\n",
       "<table border=\"1\" class=\"dataframe\">\n",
       "  <thead>\n",
       "    <tr style=\"text-align: right;\">\n",
       "      <th></th>\n",
       "      <th>Data Venda</th>\n",
       "      <th>Data Envio</th>\n",
       "      <th>ID Loja</th>\n",
       "      <th>ID Produto</th>\n",
       "      <th>ID Cliente</th>\n",
       "      <th>No. Venda</th>\n",
       "      <th>Custo Unitário</th>\n",
       "      <th>Preço Unitário</th>\n",
       "      <th>Quantidade</th>\n",
       "      <th>Valor Desconto</th>\n",
       "      <th>Valor Venda</th>\n",
       "      <th>Produto</th>\n",
       "      <th>Fabricante</th>\n",
       "      <th>Marca</th>\n",
       "      <th>Classe</th>\n",
       "      <th>Cor</th>\n",
       "      <th>Valor Custo</th>\n",
       "      <th>Lucro</th>\n",
       "      <th>Ano da Venda</th>\n",
       "    </tr>\n",
       "  </thead>\n",
       "  <tbody>\n",
       "    <tr>\n",
       "      <th>481</th>\n",
       "      <td>2009-06-27</td>\n",
       "      <td>2009-07-08</td>\n",
       "      <td>307</td>\n",
       "      <td>1155</td>\n",
       "      <td>19127</td>\n",
       "      <td>200906274CS717</td>\n",
       "      <td>324.69</td>\n",
       "      <td>980.0</td>\n",
       "      <td>13</td>\n",
       "      <td>1274.0</td>\n",
       "      <td>11466.0</td>\n",
       "      <td>Fabrikam Trendsetter 2/3'' 17mm X100 Black</td>\n",
       "      <td>Fabrikam, Inc.</td>\n",
       "      <td>Fabrikam</td>\n",
       "      <td>Regular</td>\n",
       "      <td>Black</td>\n",
       "      <td>4220.97</td>\n",
       "      <td>7245.03</td>\n",
       "      <td>2009</td>\n",
       "    </tr>\n",
       "  </tbody>\n",
       "</table>\n",
       "</div>"
      ],
      "text/plain": [
       "    Data Venda Data Envio ID Loja ID Produto ID Cliente       No. Venda  \\\n",
       "481 2009-06-27 2009-07-08     307       1155      19127  200906274CS717   \n",
       "\n",
       "     Custo Unitário  Preço Unitário  Quantidade  Valor Desconto  Valor Venda  \\\n",
       "481          324.69           980.0          13          1274.0      11466.0   \n",
       "\n",
       "                                        Produto      Fabricante     Marca  \\\n",
       "481  Fabrikam Trendsetter 2/3'' 17mm X100 Black  Fabrikam, Inc.  Fabrikam   \n",
       "\n",
       "      Classe    Cor  Valor Custo    Lucro  Ano da Venda  \n",
       "481  Regular  Black      4220.97  7245.03          2009  "
      ]
     },
     "execution_count": 22,
     "metadata": {},
     "output_type": "execute_result"
    }
   ],
   "source": [
    "#Inclusão da coluna de Ano da Venda para facilitar as análises por ano\n",
    "df[\"Ano da Venda\"] = df[\"Data Venda\"].dt.year"
   ]
  },
  {
   "cell_type": "code",
   "execution_count": 69,
   "id": "1f0b80ff",
   "metadata": {},
   "outputs": [
    {
     "data": {
      "image/png": "[encoded data removed]",
      "text/plain": [
       "<Figure size 576x396 with 1 Axes>"
      ]
     },
     "metadata": {},
     "output_type": "display_data"
    }
   ],
   "source": [
    "# Análise do lucro por ano\n",
    "df.groupby(\"Ano da Venda\")[\"Lucro\"].sum().plot.bar(title=\"Lucro por Ano\")\n",
    "plt.xticks(rotation = \"horizontal\");"
   ]
  },
  {
   "cell_type": "code",
   "execution_count": 56,
   "id": "567e69d0",
   "metadata": {},
   "outputs": [
    {
     "data": {
      "text/html": [
       "<div>\n",
       "<style scoped>\n",
       "    .dataframe tbody tr th:only-of-type {\n",
       "        vertical-align: middle;\n",
       "    }\n",
       "\n",
       "    .dataframe tbody tr th {\n",
       "        vertical-align: top;\n",
       "    }\n",
       "\n",
       "    .dataframe thead th {\n",
       "        text-align: right;\n",
       "    }\n",
       "</style>\n",
       "<table border=\"1\" class=\"dataframe\">\n",
       "  <thead>\n",
       "    <tr style=\"text-align: right;\">\n",
       "      <th></th>\n",
       "      <th>Ano da Venda</th>\n",
       "      <th>Marca</th>\n",
       "      <th>Lucro</th>\n",
       "    </tr>\n",
       "  </thead>\n",
       "  <tbody>\n",
       "    <tr>\n",
       "      <th>0</th>\n",
       "      <td>2008</td>\n",
       "      <td>Adventure Works</td>\n",
       "      <td>306,641.16</td>\n",
       "    </tr>\n",
       "    <tr>\n",
       "      <th>1</th>\n",
       "      <td>2008</td>\n",
       "      <td>Contoso</td>\n",
       "      <td>56,416.00</td>\n",
       "    </tr>\n",
       "    <tr>\n",
       "      <th>2</th>\n",
       "      <td>2008</td>\n",
       "      <td>Fabrikam</td>\n",
       "      <td>1,557,020.55</td>\n",
       "    </tr>\n",
       "    <tr>\n",
       "      <th>3</th>\n",
       "      <td>2009</td>\n",
       "      <td>Adventure Works</td>\n",
       "      <td>405,395.08</td>\n",
       "    </tr>\n",
       "    <tr>\n",
       "      <th>4</th>\n",
       "      <td>2009</td>\n",
       "      <td>Contoso</td>\n",
       "      <td>138,258.95</td>\n",
       "    </tr>\n",
       "    <tr>\n",
       "      <th>5</th>\n",
       "      <td>2009</td>\n",
       "      <td>Fabrikam</td>\n",
       "      <td>1,034,091.35</td>\n",
       "    </tr>\n",
       "  </tbody>\n",
       "</table>\n",
       "</div>"
      ],
      "text/plain": [
       "   Ano da Venda            Marca        Lucro\n",
       "0          2008  Adventure Works   306,641.16\n",
       "1          2008          Contoso    56,416.00\n",
       "2          2008         Fabrikam 1,557,020.55\n",
       "3          2009  Adventure Works   405,395.08\n",
       "4          2009          Contoso   138,258.95\n",
       "5          2009         Fabrikam 1,034,091.35"
      ]
     },
     "execution_count": 56,
     "metadata": {},
     "output_type": "execute_result"
    }
   ],
   "source": [
    "# Análise do lucro por marca\n",
    "lucro_marca = df.groupby([df[\"Ano da Venda\"],\"Marca\"])[\"Lucro\"].sum().reset_index()\n",
    "pd.options.display.float_format = \"{:,.2f}\".format\n",
    "lucro_marca"
   ]
  },
  {
   "cell_type": "code",
   "execution_count": 53,
   "id": "cdc98021",
   "metadata": {},
   "outputs": [],
   "source": [
    "# Análise do lucro por marca (cont): O lucro cresceu de 2008 para 2009 nas marcas Adventure Works e Contoso e caiu na marca Fabrikam."
   ]
  },
  {
   "cell_type": "code",
   "execution_count": 64,
   "id": "2160d244",
   "metadata": {},
   "outputs": [
    {
     "data": {
      "text/html": [
       "<div>\n",
       "<style scoped>\n",
       "    .dataframe tbody tr th:only-of-type {\n",
       "        vertical-align: middle;\n",
       "    }\n",
       "\n",
       "    .dataframe tbody tr th {\n",
       "        vertical-align: top;\n",
       "    }\n",
       "\n",
       "    .dataframe thead th {\n",
       "        text-align: right;\n",
       "    }\n",
       "</style>\n",
       "<table border=\"1\" class=\"dataframe\">\n",
       "  <thead>\n",
       "    <tr style=\"text-align: right;\">\n",
       "      <th></th>\n",
       "      <th>Data Venda</th>\n",
       "      <th>Data Envio</th>\n",
       "      <th>ID Loja</th>\n",
       "      <th>ID Produto</th>\n",
       "      <th>ID Cliente</th>\n",
       "      <th>No. Venda</th>\n",
       "      <th>Custo Unitário</th>\n",
       "      <th>Preço Unitário</th>\n",
       "      <th>Quantidade</th>\n",
       "      <th>Valor Desconto</th>\n",
       "      <th>Valor Venda</th>\n",
       "      <th>Produto</th>\n",
       "      <th>Fabricante</th>\n",
       "      <th>Marca</th>\n",
       "      <th>Classe</th>\n",
       "      <th>Cor</th>\n",
       "      <th>Valor Custo</th>\n",
       "      <th>Lucro</th>\n",
       "      <th>Ano da Venda</th>\n",
       "      <th>Tempo de Envio</th>\n",
       "    </tr>\n",
       "  </thead>\n",
       "  <tbody>\n",
       "    <tr>\n",
       "      <th>12</th>\n",
       "      <td>2009-05-16</td>\n",
       "      <td>2009-05-27</td>\n",
       "      <td>306</td>\n",
       "      <td>384</td>\n",
       "      <td>19067</td>\n",
       "      <td>200905163CS746</td>\n",
       "      <td>348.58</td>\n",
       "      <td>758.00</td>\n",
       "      <td>6</td>\n",
       "      <td>0.00</td>\n",
       "      <td>4,548.00</td>\n",
       "      <td>Adventure Works Laptop15.4W M1548 Red</td>\n",
       "      <td>Adventure Works</td>\n",
       "      <td>Adventure Works</td>\n",
       "      <td>Regular</td>\n",
       "      <td>Red</td>\n",
       "      <td>2,091.48</td>\n",
       "      <td>2,456.52</td>\n",
       "      <td>2009</td>\n",
       "      <td>11</td>\n",
       "    </tr>\n",
       "    <tr>\n",
       "      <th>331</th>\n",
       "      <td>2009-12-29</td>\n",
       "      <td>2010-01-07</td>\n",
       "      <td>307</td>\n",
       "      <td>384</td>\n",
       "      <td>19145</td>\n",
       "      <td>200912293CS735</td>\n",
       "      <td>348.58</td>\n",
       "      <td>758.00</td>\n",
       "      <td>7</td>\n",
       "      <td>795.90</td>\n",
       "      <td>4,510.10</td>\n",
       "      <td>Adventure Works Laptop15.4W M1548 Red</td>\n",
       "      <td>Adventure Works</td>\n",
       "      <td>Adventure Works</td>\n",
       "      <td>Regular</td>\n",
       "      <td>Red</td>\n",
       "      <td>2,440.06</td>\n",
       "      <td>2,070.04</td>\n",
       "      <td>2009</td>\n",
       "      <td>9</td>\n",
       "    </tr>\n",
       "    <tr>\n",
       "      <th>115</th>\n",
       "      <td>2009-05-07</td>\n",
       "      <td>2009-05-18</td>\n",
       "      <td>306</td>\n",
       "      <td>1155</td>\n",
       "      <td>19067</td>\n",
       "      <td>200905074CS746</td>\n",
       "      <td>324.69</td>\n",
       "      <td>980.00</td>\n",
       "      <td>6</td>\n",
       "      <td>0.00</td>\n",
       "      <td>5,880.00</td>\n",
       "      <td>Fabrikam Trendsetter 2/3'' 17mm X100 Black</td>\n",
       "      <td>Fabrikam, Inc.</td>\n",
       "      <td>Fabrikam</td>\n",
       "      <td>Regular</td>\n",
       "      <td>Black</td>\n",
       "      <td>1,948.14</td>\n",
       "      <td>3,931.86</td>\n",
       "      <td>2009</td>\n",
       "      <td>11</td>\n",
       "    </tr>\n",
       "    <tr>\n",
       "      <th>245</th>\n",
       "      <td>2009-07-23</td>\n",
       "      <td>2009-07-27</td>\n",
       "      <td>307</td>\n",
       "      <td>1203</td>\n",
       "      <td>19130</td>\n",
       "      <td>200907234CS720</td>\n",
       "      <td>324.69</td>\n",
       "      <td>980.00</td>\n",
       "      <td>7</td>\n",
       "      <td>0.00</td>\n",
       "      <td>6,860.00</td>\n",
       "      <td>Fabrikam Trendsetter 2/3'' 17mm X100 Grey</td>\n",
       "      <td>Fabrikam, Inc.</td>\n",
       "      <td>Fabrikam</td>\n",
       "      <td>Regular</td>\n",
       "      <td>Grey</td>\n",
       "      <td>2,272.83</td>\n",
       "      <td>4,587.17</td>\n",
       "      <td>2009</td>\n",
       "      <td>4</td>\n",
       "    </tr>\n",
       "    <tr>\n",
       "      <th>348</th>\n",
       "      <td>2009-07-30</td>\n",
       "      <td>2009-08-06</td>\n",
       "      <td>199</td>\n",
       "      <td>1202</td>\n",
       "      <td>18973</td>\n",
       "      <td>200907304CS885</td>\n",
       "      <td>330.66</td>\n",
       "      <td>998.00</td>\n",
       "      <td>13</td>\n",
       "      <td>1,297.40</td>\n",
       "      <td>11,676.60</td>\n",
       "      <td>Fabrikam Trendsetter 1/3'' 8.5mm X200 Grey</td>\n",
       "      <td>Fabrikam, Inc.</td>\n",
       "      <td>Fabrikam</td>\n",
       "      <td>Regular</td>\n",
       "      <td>Grey</td>\n",
       "      <td>4,298.58</td>\n",
       "      <td>7,378.02</td>\n",
       "      <td>2009</td>\n",
       "      <td>7</td>\n",
       "    </tr>\n",
       "  </tbody>\n",
       "</table>\n",
       "</div>"
      ],
      "text/plain": [
       "    Data Venda Data Envio ID Loja ID Produto ID Cliente       No. Venda  \\\n",
       "12  2009-05-16 2009-05-27     306        384      19067  200905163CS746   \n",
       "331 2009-12-29 2010-01-07     307        384      19145  200912293CS735   \n",
       "115 2009-05-07 2009-05-18     306       1155      19067  200905074CS746   \n",
       "245 2009-07-23 2009-07-27     307       1203      19130  200907234CS720   \n",
       "348 2009-07-30 2009-08-06     199       1202      18973  200907304CS885   \n",
       "\n",
       "     Custo Unitário  Preço Unitário  Quantidade  Valor Desconto  Valor Venda  \\\n",
       "12           348.58          758.00           6            0.00     4,548.00   \n",
       "331          348.58          758.00           7          795.90     4,510.10   \n",
       "115          324.69          980.00           6            0.00     5,880.00   \n",
       "245          324.69          980.00           7            0.00     6,860.00   \n",
       "348          330.66          998.00          13        1,297.40    11,676.60   \n",
       "\n",
       "                                        Produto       Fabricante  \\\n",
       "12        Adventure Works Laptop15.4W M1548 Red  Adventure Works   \n",
       "331       Adventure Works Laptop15.4W M1548 Red  Adventure Works   \n",
       "115  Fabrikam Trendsetter 2/3'' 17mm X100 Black   Fabrikam, Inc.   \n",
       "245   Fabrikam Trendsetter 2/3'' 17mm X100 Grey   Fabrikam, Inc.   \n",
       "348  Fabrikam Trendsetter 1/3'' 8.5mm X200 Grey   Fabrikam, Inc.   \n",
       "\n",
       "               Marca   Classe    Cor  Valor Custo    Lucro  Ano da Venda  \\\n",
       "12   Adventure Works  Regular    Red     2,091.48 2,456.52          2009   \n",
       "331  Adventure Works  Regular    Red     2,440.06 2,070.04          2009   \n",
       "115         Fabrikam  Regular  Black     1,948.14 3,931.86          2009   \n",
       "245         Fabrikam  Regular   Grey     2,272.83 4,587.17          2009   \n",
       "348         Fabrikam  Regular   Grey     4,298.58 7,378.02          2009   \n",
       "\n",
       "     Tempo de Envio  \n",
       "12               11  \n",
       "331               9  \n",
       "115              11  \n",
       "245               4  \n",
       "348               7  "
      ]
     },
     "execution_count": 64,
     "metadata": {},
     "output_type": "execute_result"
    }
   ],
   "source": [
    "#Início da Análise das Vendas do ano de 2009 \n",
    "#Cria df auxiliar apenas com os dados de 2009\n",
    "df_2009 = df[df[\"Ano da Venda\"] == 2009]\n",
    "df_2009.sample(5)"
   ]
  },
  {
   "cell_type": "code",
   "execution_count": 70,
   "id": "db44b6ae",
   "metadata": {},
   "outputs": [
    {
     "data": {
      "text/plain": [
       "<AxesSubplot:title={'center':'Lucro por mês'}, xlabel='Data Venda'>"
      ]
     },
     "execution_count": 70,
     "metadata": {},
     "output_type": "execute_result"
    },
    {
     "data": {
      "image/png": "[encoded data removed]",
      "text/plain": [
       "<Figure size 576x396 with 1 Axes>"
      ]
     },
     "metadata": {},
     "output_type": "display_data"
    }
   ],
   "source": [
    "# Retorna os valores mensais de lucro de 2009\n",
    "df_2009.groupby(df_2009[\"Data Venda\"].dt.month)[\"Lucro\"].sum().plot(title=\"Lucro por mês\")"
   ]
  },
  {
   "cell_type": "code",
   "execution_count": 75,
   "id": "421166c2",
   "metadata": {},
   "outputs": [
    {
     "data": {
      "text/plain": [
       "(array([0, 1]), [Text(0, 0, 'Economy'), Text(1, 0, 'Regular')])"
      ]
     },
     "execution_count": 75,
     "metadata": {},
     "output_type": "execute_result"
    },
    {
     "data": {
      "image/png": "[encoded data removed]",
      "text/plain": [
       "<Figure size 576x396 with 1 Axes>"
      ]
     },
     "metadata": {},
     "output_type": "display_data"
    }
   ],
   "source": [
    "# Retorna os valores de lucro de 2009 por classe\n",
    "df_2009.groupby(df_2009[\"Classe\"])[\"Lucro\"].sum().plot.bar(title=\"Lucro por classe\")\n",
    "plt.xticks(rotation = \"horizontal\")"
   ]
  },
  {
   "cell_type": "code",
   "execution_count": 74,
   "id": "73561b28",
   "metadata": {},
   "outputs": [
    {
     "data": {
      "text/plain": [
       "(array([0, 1, 2]),\n",
       " [Text(0, 0, 'Adventure Works'),\n",
       "  Text(1, 0, 'Contoso'),\n",
       "  Text(2, 0, 'Fabrikam')])"
      ]
     },
     "execution_count": 74,
     "metadata": {},
     "output_type": "execute_result"
    },
    {
     "data": {
      "image/png": "[encoded data removed]",
      "text/plain": [
       "<Figure size 576x396 with 1 Axes>"
      ]
     },
     "metadata": {},
     "output_type": "display_data"
    }
   ],
   "source": [
    "# Retorna os valores de lucro de 2009 por marca\n",
    "df_2009.groupby(df_2009[\"Marca\"])[\"Lucro\"].sum().plot.bar(title=\"Lucro por marca\")\n",
    "plt.xticks(rotation = \"horizontal\")"
   ]
  },
  {
   "cell_type": "code",
   "execution_count": 77,
   "id": "4b2d4656",
   "metadata": {},
   "outputs": [
    {
     "data": {
      "text/plain": [
       "<AxesSubplot:title={'center':'Lucro por produto'}, ylabel='Produto'>"
      ]
     },
     "execution_count": 77,
     "metadata": {},
     "output_type": "execute_result"
    },
    {
     "data": {
      "image/png": "[encoded data removed]",
      "text/plain": [
       "<Figure size 576x396 with 1 Axes>"
      ]
     },
     "metadata": {},
     "output_type": "display_data"
    }
   ],
   "source": [
    "# Retorna os valores de lucro de 2009 por produto\n",
    "df_2009.groupby(\"Produto\")[\"Lucro\"].sum().sort_values(ascending = True).plot.barh(title= \"Lucro por produto\")"
   ]
  },
  {
   "cell_type": "code",
   "execution_count": null,
   "id": "c1cba632",
   "metadata": {},
   "outputs": [],
   "source": []
  },
  {
   "cell_type": "code",
   "execution_count": 60,
   "id": "b5a3428d",
   "metadata": {},
   "outputs": [
    {
     "data": {
      "text/plain": [
       "<AxesSubplot:title={'center':'Total de Produtos Vendidos'}, ylabel='Produto'>"
      ]
     },
     "execution_count": 60,
     "metadata": {},
     "output_type": "execute_result"
    },
    {
     "data": {
      "image/png": "[encoded data removed]",
      "text/plain": [
       "<Figure size 576x396 with 1 Axes>"
      ]
     },
     "metadata": {},
     "output_type": "display_data"
    }
   ],
   "source": [
    "# Análise das quantidades vendidas por produto \n",
    "df.groupby(\"Produto\")[\"Quantidade\"].sum().sort_values(ascending = True).plot.barh(title= \"Total de Produtos Vendidos\")"
   ]
  },
  {
   "cell_type": "code",
   "execution_count": null,
   "id": "b57af215",
   "metadata": {},
   "outputs": [],
   "source": []
  },
  {
   "cell_type": "code",
   "execution_count": 38,
   "id": "fdd6f82d",
   "metadata": {},
   "outputs": [
    {
     "data": {
      "text/plain": [
       "8.543141592920353"
      ]
     },
     "execution_count": 38,
     "metadata": {},
     "output_type": "execute_result"
    }
   ],
   "source": [
    "#Início da análise do tempo de envio\n",
    "#Inclusão da coluna de Tempo de Envio e cálculo do Tempo médio de envio (geral)\n",
    "df[\"Tempo de Envio\"] = (df[\"Data Envio\"] - df[\"Data Venda\"]).dt.days\n",
    "df[\"Tempo de Envio\"].mean()\n"
   ]
  },
  {
   "cell_type": "code",
   "execution_count": 79,
   "id": "1bea4095",
   "metadata": {},
   "outputs": [
    {
     "data": {
      "text/plain": [
       "count   904.00\n",
       "mean      8.54\n",
       "std       3.06\n",
       "min       4.00\n",
       "25%       6.00\n",
       "50%       9.00\n",
       "75%      11.00\n",
       "max      20.00\n",
       "Name: Tempo de Envio, dtype: float64"
      ]
     },
     "execution_count": 79,
     "metadata": {},
     "output_type": "execute_result"
    }
   ],
   "source": [
    "#Descrição estatística básica dos dados de tempo de envio\n",
    "df[\"Tempo de Envio\"].describe()"
   ]
  },
  {
   "cell_type": "code",
   "execution_count": 104,
   "id": "d3132077",
   "metadata": {},
   "outputs": [
    {
     "data": {
      "text/plain": [
       "{'whiskers': [<matplotlib.lines.Line2D at 0x17112362820>,\n",
       "  <matplotlib.lines.Line2D at 0x17112362b80>],\n",
       " 'caps': [<matplotlib.lines.Line2D at 0x17112362ee0>,\n",
       "  <matplotlib.lines.Line2D at 0x17112425280>],\n",
       " 'boxes': [<matplotlib.lines.Line2D at 0x171123623a0>],\n",
       " 'medians': [<matplotlib.lines.Line2D at 0x171124255e0>],\n",
       " 'fliers': [<matplotlib.lines.Line2D at 0x17112425940>],\n",
       " 'means': []}"
      ]
     },
     "execution_count": 104,
     "metadata": {},
     "output_type": "execute_result"
    },
    {
     "data": {
      "image/png": "[encoded data removed]",
      "text/plain": [
       "<Figure size 576x396 with 1 Axes>"
      ]
     },
     "metadata": {},
     "output_type": "display_data"
    }
   ],
   "source": [
    "# Exibção dos pontos: mín, máximo, mediana, quartis e outliers dos dados de Tempo de Envio\n",
    "plt.boxplot(df[\"Tempo de Envio\"])"
   ]
  },
  {
   "cell_type": "code",
   "execution_count": 92,
   "id": "12680f83",
   "metadata": {},
   "outputs": [
    {
     "data": {
      "text/plain": [
       "Marca\n",
       "Adventure Works   8.66\n",
       "Contoso           8.47\n",
       "Fabrikam          8.51\n",
       "Name: Tempo de Envio, dtype: float64"
      ]
     },
     "execution_count": 92,
     "metadata": {},
     "output_type": "execute_result"
    }
   ],
   "source": [
    "#Verificação se há variação no tempo médio de envio por marca por Ano\n",
    "df.groupby(\"Marca\")[\"Tempo de Envio\"].mean()\n"
   ]
  },
  {
   "cell_type": "code",
   "execution_count": 99,
   "id": "0951a466",
   "metadata": {},
   "outputs": [
    {
     "data": {
      "text/plain": [
       "Data Venda\n",
       "2008   8.33\n",
       "2009   8.77\n",
       "Name: Tempo de Envio, dtype: float64"
      ]
     },
     "execution_count": 99,
     "metadata": {},
     "output_type": "execute_result"
    }
   ],
   "source": [
    "#Verificação se há variação no tempo médio de envio por marca (usada a data da venda para não inflar os dados do envio de 2010 que teriam poucas observações)\n",
    "df.groupby(df[\"Data Venda\"].dt.year)[\"Tempo de Envio\"].mean()\n"
   ]
  },
  {
   "cell_type": "code",
   "execution_count": 103,
   "id": "952b8c8e",
   "metadata": {},
   "outputs": [
    {
     "data": {
      "text/html": [
       "<div>\n",
       "<style scoped>\n",
       "    .dataframe tbody tr th:only-of-type {\n",
       "        vertical-align: middle;\n",
       "    }\n",
       "\n",
       "    .dataframe tbody tr th {\n",
       "        vertical-align: top;\n",
       "    }\n",
       "\n",
       "    .dataframe thead th {\n",
       "        text-align: right;\n",
       "    }\n",
       "</style>\n",
       "<table border=\"1\" class=\"dataframe\">\n",
       "  <thead>\n",
       "    <tr style=\"text-align: right;\">\n",
       "      <th></th>\n",
       "      <th>Ano da Venda</th>\n",
       "      <th>Marca</th>\n",
       "      <th>Tempo de Envio</th>\n",
       "    </tr>\n",
       "  </thead>\n",
       "  <tbody>\n",
       "    <tr>\n",
       "      <th>0</th>\n",
       "      <td>2008</td>\n",
       "      <td>Adventure Works</td>\n",
       "      <td>8.55</td>\n",
       "    </tr>\n",
       "    <tr>\n",
       "      <th>1</th>\n",
       "      <td>2008</td>\n",
       "      <td>Contoso</td>\n",
       "      <td>8.36</td>\n",
       "    </tr>\n",
       "    <tr>\n",
       "      <th>2</th>\n",
       "      <td>2008</td>\n",
       "      <td>Fabrikam</td>\n",
       "      <td>8.24</td>\n",
       "    </tr>\n",
       "    <tr>\n",
       "      <th>3</th>\n",
       "      <td>2009</td>\n",
       "      <td>Adventure Works</td>\n",
       "      <td>8.75</td>\n",
       "    </tr>\n",
       "    <tr>\n",
       "      <th>4</th>\n",
       "      <td>2009</td>\n",
       "      <td>Contoso</td>\n",
       "      <td>8.57</td>\n",
       "    </tr>\n",
       "    <tr>\n",
       "      <th>5</th>\n",
       "      <td>2009</td>\n",
       "      <td>Fabrikam</td>\n",
       "      <td>8.88</td>\n",
       "    </tr>\n",
       "  </tbody>\n",
       "</table>\n",
       "</div>"
      ],
      "text/plain": [
       "   Ano da Venda            Marca  Tempo de Envio\n",
       "0          2008  Adventure Works            8.55\n",
       "1          2008          Contoso            8.36\n",
       "2          2008         Fabrikam            8.24\n",
       "3          2009  Adventure Works            8.75\n",
       "4          2009          Contoso            8.57\n",
       "5          2009         Fabrikam            8.88"
      ]
     },
     "execution_count": 103,
     "metadata": {},
     "output_type": "execute_result"
    }
   ],
   "source": [
    "tempo_envio_marca = df.groupby([df[\"Ano da Venda\"],\"Marca\"])[\"Tempo de Envio\"].mean().reset_index()\n",
    "pd.options.display.float_format = \"{:,.2f}\".format\n",
    "tempo_envio_marca\n"
   ]
  },
  {
   "cell_type": "code",
   "execution_count": 105,
   "id": "6c4143bc",
   "metadata": {},
   "outputs": [
    {
     "data": {
      "text/plain": [
       "(array([217., 137.,  70., 179., 115., 185.,   0.,   0.,   0.,   1.]),\n",
       " array([ 4. ,  5.6,  7.2,  8.8, 10.4, 12. , 13.6, 15.2, 16.8, 18.4, 20. ]),\n",
       " <BarContainer object of 10 artists>)"
      ]
     },
     "execution_count": 105,
     "metadata": {},
     "output_type": "execute_result"
    },
    {
     "data": {
      "image/png": "[encoded data removed]",
      "text/plain": [
       "<Figure size 576x396 with 1 Axes>"
      ]
     },
     "metadata": {},
     "output_type": "display_data"
    }
   ],
   "source": [
    "#Análise da distribuição dos dados de Tempo de envio\n",
    "plt.hist(df[\"Tempo de Envio\"])"
   ]
  },
  {
   "cell_type": "code",
   "execution_count": 106,
   "id": "bf5e9786",
   "metadata": {},
   "outputs": [
    {
     "data": {
      "text/html": [
       "<div>\n",
       "<style scoped>\n",
       "    .dataframe tbody tr th:only-of-type {\n",
       "        vertical-align: middle;\n",
       "    }\n",
       "\n",
       "    .dataframe tbody tr th {\n",
       "        vertical-align: top;\n",
       "    }\n",
       "\n",
       "    .dataframe thead th {\n",
       "        text-align: right;\n",
       "    }\n",
       "</style>\n",
       "<table border=\"1\" class=\"dataframe\">\n",
       "  <thead>\n",
       "    <tr style=\"text-align: right;\">\n",
       "      <th></th>\n",
       "      <th>Data Venda</th>\n",
       "      <th>Data Envio</th>\n",
       "      <th>ID Loja</th>\n",
       "      <th>ID Produto</th>\n",
       "      <th>ID Cliente</th>\n",
       "      <th>No. Venda</th>\n",
       "      <th>Custo Unitário</th>\n",
       "      <th>Preço Unitário</th>\n",
       "      <th>Quantidade</th>\n",
       "      <th>Valor Desconto</th>\n",
       "      <th>Valor Venda</th>\n",
       "      <th>Produto</th>\n",
       "      <th>Fabricante</th>\n",
       "      <th>Marca</th>\n",
       "      <th>Classe</th>\n",
       "      <th>Cor</th>\n",
       "      <th>Valor Custo</th>\n",
       "      <th>Lucro</th>\n",
       "      <th>Ano da Venda</th>\n",
       "      <th>Tempo de Envio</th>\n",
       "    </tr>\n",
       "  </thead>\n",
       "  <tbody>\n",
       "    <tr>\n",
       "      <th>0</th>\n",
       "      <td>2008-05-09</td>\n",
       "      <td>2008-05-29</td>\n",
       "      <td>199</td>\n",
       "      <td>384</td>\n",
       "      <td>18839</td>\n",
       "      <td>200805093CS607</td>\n",
       "      <td>348.58</td>\n",
       "      <td>758.00</td>\n",
       "      <td>6</td>\n",
       "      <td>0.00</td>\n",
       "      <td>4,548.00</td>\n",
       "      <td>Adventure Works Laptop15.4W M1548 Red</td>\n",
       "      <td>Adventure Works</td>\n",
       "      <td>Adventure Works</td>\n",
       "      <td>Regular</td>\n",
       "      <td>Red</td>\n",
       "      <td>2,091.48</td>\n",
       "      <td>2,456.52</td>\n",
       "      <td>2008</td>\n",
       "      <td>20</td>\n",
       "    </tr>\n",
       "  </tbody>\n",
       "</table>\n",
       "</div>"
      ],
      "text/plain": [
       "  Data Venda Data Envio ID Loja ID Produto ID Cliente       No. Venda  \\\n",
       "0 2008-05-09 2008-05-29     199        384      18839  200805093CS607   \n",
       "\n",
       "   Custo Unitário  Preço Unitário  Quantidade  Valor Desconto  Valor Venda  \\\n",
       "0          348.58          758.00           6            0.00     4,548.00   \n",
       "\n",
       "                                 Produto       Fabricante            Marca  \\\n",
       "0  Adventure Works Laptop15.4W M1548 Red  Adventure Works  Adventure Works   \n",
       "\n",
       "    Classe  Cor  Valor Custo    Lucro  Ano da Venda  Tempo de Envio  \n",
       "0  Regular  Red     2,091.48 2,456.52          2008              20  "
      ]
     },
     "execution_count": 106,
     "metadata": {},
     "output_type": "execute_result"
    }
   ],
   "source": [
    "#Identificação do outlier para checagem se trata-se de erro na alimentação dos dados ou de ocorrência com causas especiais de variação.\n",
    "df[df[\"Tempo de Envio\"] == 20]"
   ]
  },
  {
   "cell_type": "code",
   "execution_count": 107,
   "id": "f20326b0",
   "metadata": {},
   "outputs": [
    {
     "data": {
      "text/plain": [
       "{'whiskers': [<matplotlib.lines.Line2D at 0x171124ef7f0>,\n",
       "  <matplotlib.lines.Line2D at 0x171124efb50>],\n",
       " 'caps': [<matplotlib.lines.Line2D at 0x171124efeb0>,\n",
       "  <matplotlib.lines.Line2D at 0x171124ff250>],\n",
       " 'boxes': [<matplotlib.lines.Line2D at 0x171124ef490>],\n",
       " 'medians': [<matplotlib.lines.Line2D at 0x171124ff5b0>],\n",
       " 'fliers': [<matplotlib.lines.Line2D at 0x171124ff910>],\n",
       " 'means': []}"
      ]
     },
     "execution_count": 107,
     "metadata": {},
     "output_type": "execute_result"
    },
    {
     "data": {
      "image/png": "[encoded data removed]",
      "text/plain": [
       "<Figure size 576x396 with 1 Axes>"
      ]
     },
     "metadata": {},
     "output_type": "display_data"
    }
   ],
   "source": [
    "#Análise do boxplot de 2009 comparativamente ao do períido global\n",
    "plt.boxplot(df_2009[\"Tempo de Envio\"])"
   ]
  },
  {
   "cell_type": "code",
   "execution_count": 108,
   "id": "04e59f6e",
   "metadata": {},
   "outputs": [
    {
     "data": {
      "text/plain": [
       "(array([57., 35., 30., 33., 19., 59., 47., 55., 56., 44.]),\n",
       " array([ 4. ,  4.9,  5.8,  6.7,  7.6,  8.5,  9.4, 10.3, 11.2, 12.1, 13. ]),\n",
       " <BarContainer object of 10 artists>)"
      ]
     },
     "execution_count": 108,
     "metadata": {},
     "output_type": "execute_result"
    },
    {
     "data": {
      "image/png": "[encoded data removed]",
      "text/plain": [
       "<Figure size 576x396 with 1 Axes>"
      ]
     },
     "metadata": {},
     "output_type": "display_data"
    }
   ],
   "source": [
    "plt.hist(df_2009[\"Tempo de Envio\"])"
   ]
  }
 ],
 "metadata": {
  "kernelspec": {
   "display_name": "Python 3",
   "language": "python",
   "name": "python3"
  },
  "language_info": {
   "codemirror_mode": {
    "name": "ipython",
    "version": 3
   },
   "file_extension": ".py",
   "mimetype": "text/x-python",
   "name": "python",
   "nbconvert_exporter": "python",
   "pygments_lexer": "ipython3",
   "version": "3.8.8"
  }
 },
 "nbformat": 4,
 "nbformat_minor": 5
}
